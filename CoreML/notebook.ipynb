{
 "cells": [
  {
   "cell_type": "code",
   "execution_count": 1,
   "metadata": {},
   "outputs": [
    {
     "name": "stdout",
     "output_type": "stream",
     "text": [
      "Collecting git+https://github.com/tinnguyen197662/keras-vggface.gitNote: you may need to restart the kernel to use updated packages.\n",
      "\n",
      "  Cloning https://github.com/tinnguyen197662/keras-vggface.git to c:\\users\\dell\\appdata\\local\\temp\\pip-req-build-4z79fete\n",
      "  Resolved https://github.com/tinnguyen197662/keras-vggface.git to commit bccd893f44143a8e07d0916afd1ddd2183540059\n",
      "  Preparing metadata (setup.py): started\n",
      "  Preparing metadata (setup.py): finished with status 'done'\n",
      "Requirement already satisfied: numpy>=1.9.1 in c:\\python311\\lib\\site-packages (from keras-vggface==0.6) (1.23.5)\n",
      "Requirement already satisfied: scipy>=0.14 in c:\\python311\\lib\\site-packages (from keras-vggface==0.6) (1.10.1)\n",
      "Requirement already satisfied: h5py in c:\\python311\\lib\\site-packages (from keras-vggface==0.6) (3.8.0)\n",
      "Requirement already satisfied: pillow in c:\\python311\\lib\\site-packages (from keras-vggface==0.6) (9.5.0)\n",
      "Requirement already satisfied: keras in c:\\python311\\lib\\site-packages (from keras-vggface==0.6) (2.12.0)\n",
      "Requirement already satisfied: six>=1.9.0 in c:\\python311\\lib\\site-packages (from keras-vggface==0.6) (1.16.0)\n",
      "Collecting pyyaml (from keras-vggface==0.6)\n",
      "  Downloading PyYAML-6.0-cp311-cp311-win_amd64.whl (143 kB)\n",
      "                                              0.0/143.2 kB ? eta -:--:--\n",
      "     ----------                            41.0/143.2 kB 653.6 kB/s eta 0:00:01\n",
      "     -----------------------------------    133.1/143.2 kB 1.3 MB/s eta 0:00:01\n",
      "     -------------------------------------- 143.2/143.2 kB 1.2 MB/s eta 0:00:00\n",
      "Building wheels for collected packages: keras-vggface\n",
      "  Building wheel for keras-vggface (setup.py): started\n",
      "  Building wheel for keras-vggface (setup.py): finished with status 'done'\n",
      "  Created wheel for keras-vggface: filename=keras_vggface-0.6-py3-none-any.whl size=8377 sha256=d21235fa502c6e842122e302fb0e005074312f5fcb3a641280d85fcc8583c5a1\n",
      "  Stored in directory: C:\\Users\\DELL\\AppData\\Local\\Temp\\pip-ephem-wheel-cache-ol_0k9_h\\wheels\\90\\c5\\09\\f57ff006b35731c5fcc639d9b07001fb5f012e64508c921e8e\n",
      "Successfully built keras-vggface\n",
      "Installing collected packages: pyyaml, keras-vggface\n",
      "Successfully installed keras-vggface-0.6 pyyaml-6.0\n"
     ]
    },
    {
     "name": "stderr",
     "output_type": "stream",
     "text": [
      "  Running command git clone --filter=blob:none --quiet https://github.com/tinnguyen197662/keras-vggface.git 'C:\\Users\\DELL\\AppData\\Local\\Temp\\pip-req-build-4z79fete'\n"
     ]
    },
    {
     "name": "stdout",
     "output_type": "stream",
     "text": [
      "Requirement already satisfied: pyyaml in c:\\python311\\lib\\site-packages (6.0)\n",
      "Requirement already satisfied: h5py in c:\\python311\\lib\\site-packages (3.8.0)\n",
      "Requirement already satisfied: numpy>=1.14.5 in c:\\python311\\lib\\site-packages (from h5py) (1.23.5)\n",
      "Note: you may need to restart the kernel to use updated packages.\n"
     ]
    }
   ],
   "source": [
    "%pip install git+https://github.com/tinnguyen197662/keras-vggface.git\n",
    "%pip install pyyaml h5py"
   ]
  },
  {
   "cell_type": "code",
   "execution_count": 2,
   "metadata": {},
   "outputs": [],
   "source": [
    "import numpy as np\n",
    "import os\n",
    "import os.path\n",
    "import PIL\n",
    "import tensorflow as tf\n",
    "import keras\n",
    "import keras_vggface\n",
    "import keras_vggface.utils"
   ]
  },
  {
   "cell_type": "code",
   "execution_count": 4,
   "metadata": {},
   "outputs": [],
   "source": [
    "from keras_vggface.vggface import VGGFace\n",
    "import mtcnn\n",
    "import matplotlib.pyplot as plt\n",
    "from keras.utils.data_utils import get_file\n",
    "from keras.layers import Flatten, Dense, Input"
   ]
  },
  {
   "cell_type": "code",
   "execution_count": 5,
   "metadata": {},
   "outputs": [
    {
     "name": "stdout",
     "output_type": "stream",
     "text": [
      "Downloading data from https://github.com/rcmalli/keras-vggface/releases/download/v2.0/rcmalli_vggface_tf_notop_resnet50.h5\n",
      "94694792/94694792 [==============================] - 31s 0us/step\n",
      "Input:  KerasTensor(type_spec=TensorSpec(shape=(None, 224, 224, 3), dtype=tf.float32, name='input_1'), name='input_1', description=\"created by layer 'input_1'\")\n",
      "Output:  KerasTensor(type_spec=TensorSpec(shape=(None, 1, 1, 2048), dtype=tf.float32, name=None), name='avg_pool/AvgPool:0', description=\"created by layer 'avg_pool'\")\n"
     ]
    }
   ],
   "source": [
    "vgg_face = VGGFace(model='resnet50', include_top=False,\n",
    "                   input_shape=(224, 224, 3))\n",
    "# print(vgg_face.summary())\n",
    "print(\"Input: \", vgg_face.input)\n",
    "print(\"Output: \", vgg_face.output)"
   ]
  },
  {
   "cell_type": "code",
   "execution_count": 6,
   "metadata": {},
   "outputs": [],
   "source": [
    "# import matplotlib.image as mpimg\n",
    "\n",
    "# sample_img = mpimg.imread(\n",
    "#     'data/train/TIN/20230413_161955.jpg').transpose(1, 0, 2)\n",
    "# print(sample_img.shape)\n",
    "\n",
    "# face_detector = mtcnn.MTCNN()\n",
    "# face_roi = face_detector.detect_faces(sample_img)"
   ]
  },
  {
   "cell_type": "code",
   "execution_count": 7,
   "metadata": {},
   "outputs": [],
   "source": [
    "# plt.imshow(sample_img)"
   ]
  },
  {
   "cell_type": "code",
   "execution_count": 8,
   "metadata": {},
   "outputs": [],
   "source": [
    "# x1, y1, w, h = face_roi[0]['box']\n",
    "# x2, y2 = x1 + w, y1 + h\n",
    "# face = sample_img[y1:y2, x1:x2]\n",
    "# print(face.shape)\n",
    "# plt.imshow(face)"
   ]
  },
  {
   "cell_type": "code",
   "execution_count": 13,
   "metadata": {},
   "outputs": [
    {
     "name": "stdout",
     "output_type": "stream",
     "text": [
      "Found 120 files belonging to 3 classes.\n",
      "Found 30 files belonging to 3 classes.\n"
     ]
    }
   ],
   "source": [
    "train_data = keras.utils.image_dataset_from_directory(\n",
    "    'data/train', shuffle=True, batch_size=8, image_size=(224, 224))\n",
    "test_data = keras.utils.image_dataset_from_directory(\n",
    "    'data/test', shuffle=True, batch_size=8, image_size=(224, 224))"
   ]
  },
  {
   "cell_type": "code",
   "execution_count": 14,
   "metadata": {},
   "outputs": [
    {
     "name": "stdout",
     "output_type": "stream",
     "text": [
      "Model: \"model_1\"\n",
      "_________________________________________________________________\n",
      " Layer (type)                Output Shape              Param #   \n",
      "=================================================================\n",
      " input_3 (InputLayer)        [(None, 224, 224, 3)]     0         \n",
      "                                                                 \n",
      " vggface_resnet50 (Functiona  (None, 1, 1, 2048)       23561152  \n",
      " l)                                                              \n",
      "                                                                 \n",
      " flatten (Flatten)           (None, 2048)              0         \n",
      "                                                                 \n",
      " classifier (Dense)          (None, 3)                 6147      \n",
      "                                                                 \n",
      "=================================================================\n",
      "Total params: 23,567,299\n",
      "Trainable params: 6,147\n",
      "Non-trainable params: 23,561,152\n",
      "_________________________________________________________________\n"
     ]
    }
   ],
   "source": [
    "data_augmentation = keras.Sequential([\n",
    "    keras.layers.Rescaling(1./255),\n",
    "    keras.layers.RandomFlip('horizontal'),\n",
    "    keras.layers.RandomRotation(0.2),\n",
    "])\n",
    "\n",
    "number_of_classes = 3  # 2 person + 1 everything else\n",
    "\n",
    "vgg_face.trainable = False  # freeze the weights\n",
    "last_layer = vgg_face.get_layer('avg_pool').output\n",
    "\n",
    "inputs = Input(shape=(224, 224, 3))\n",
    "x = data_augmentation(inputs)  # randomly rotate/flip img\n",
    "x = vgg_face(inputs)\n",
    "x = Flatten(name='flatten')(x)\n",
    "out = Dense(number_of_classes, activation='softmax', name='classifier')(x)\n",
    "custom_model = keras.Model(inputs, out)\n",
    "\n",
    "custom_model.summary()"
   ]
  },
  {
   "cell_type": "code",
   "execution_count": 15,
   "metadata": {},
   "outputs": [
    {
     "name": "stdout",
     "output_type": "stream",
     "text": [
      "Epoch 1/20\n",
      "15/15 [==============================] - 20s 929ms/step - loss: 1.1419 - accuracy: 0.4417\n",
      "Epoch 2/20\n",
      "15/15 [==============================] - 16s 908ms/step - loss: 0.8784 - accuracy: 0.5083\n",
      "Epoch 3/20\n",
      "15/15 [==============================] - 15s 832ms/step - loss: 0.7226 - accuracy: 0.5667\n",
      "Epoch 4/20\n",
      "15/15 [==============================] - 14s 859ms/step - loss: 0.6123 - accuracy: 0.6000\n",
      "Epoch 5/20\n",
      "15/15 [==============================] - 17s 957ms/step - loss: 0.5326 - accuracy: 0.6750\n",
      "Epoch 6/20\n",
      "15/15 [==============================] - 22s 1s/step - loss: 0.4721 - accuracy: 0.7500\n",
      "Epoch 7/20\n",
      "15/15 [==============================] - 16s 948ms/step - loss: 0.4263 - accuracy: 0.8333\n",
      "Epoch 8/20\n",
      "15/15 [==============================] - 14s 834ms/step - loss: 0.3916 - accuracy: 0.8583\n",
      "Epoch 9/20\n",
      "15/15 [==============================] - 16s 977ms/step - loss: 0.3630 - accuracy: 0.8750\n",
      "Epoch 10/20\n",
      "15/15 [==============================] - 15s 897ms/step - loss: 0.3386 - accuracy: 0.8833\n",
      "Epoch 11/20\n",
      "15/15 [==============================] - 15s 917ms/step - loss: 0.3194 - accuracy: 0.9083\n",
      "Epoch 12/20\n",
      "15/15 [==============================] - 14s 829ms/step - loss: 0.3023 - accuracy: 0.9250\n",
      "Epoch 13/20\n",
      "15/15 [==============================] - 15s 874ms/step - loss: 0.2878 - accuracy: 0.9167\n",
      "Epoch 14/20\n",
      "15/15 [==============================] - 15s 898ms/step - loss: 0.2743 - accuracy: 0.9167\n",
      "Epoch 15/20\n",
      "15/15 [==============================] - 14s 882ms/step - loss: 0.2634 - accuracy: 0.9167\n",
      "Epoch 16/20\n",
      "15/15 [==============================] - 15s 862ms/step - loss: 0.2533 - accuracy: 0.9167\n",
      "Epoch 17/20\n",
      "15/15 [==============================] - 14s 850ms/step - loss: 0.2431 - accuracy: 0.9167\n",
      "Epoch 18/20\n",
      "15/15 [==============================] - 14s 865ms/step - loss: 0.2343 - accuracy: 0.9250\n",
      "Epoch 19/20\n",
      "15/15 [==============================] - 15s 854ms/step - loss: 0.2266 - accuracy: 0.9333\n",
      "Epoch 20/20\n",
      "15/15 [==============================] - 13s 798ms/step - loss: 0.2192 - accuracy: 0.9500\n"
     ]
    }
   ],
   "source": [
    "custom_model.compile(\n",
    "    optimizer=keras.optimizers.Adam(learning_rate=0.0001),\n",
    "    loss=keras.losses.SparseCategoricalCrossentropy(from_logits=True),\n",
    "    metrics=['accuracy']\n",
    ")\n",
    "history = custom_model.fit(train_data, epochs=20)"
   ]
  },
  {
   "cell_type": "code",
   "execution_count": 16,
   "metadata": {},
   "outputs": [
    {
     "name": "stdout",
     "output_type": "stream",
     "text": [
      "['loss', 'accuracy']\n",
      "4/4 [==============================] - 4s 549ms/step - loss: 0.4425 - accuracy: 0.8333\n"
     ]
    },
    {
     "data": {
      "text/plain": [
       "[0.4424825608730316, 0.8333333134651184]"
      ]
     },
     "execution_count": 16,
     "metadata": {},
     "output_type": "execute_result"
    }
   ],
   "source": [
    "print(custom_model.metrics_names)\n",
    "custom_model.evaluate(test_data, batch_size=5)"
   ]
  },
  {
   "cell_type": "code",
   "execution_count": 17,
   "metadata": {},
   "outputs": [
    {
     "name": "stdout",
     "output_type": "stream",
     "text": [
      "4/4 [==============================] - 4s 552ms/step\n"
     ]
    },
    {
     "data": {
      "text/plain": [
       "array([[1.5552082e-02, 8.1077907e-03, 9.7634012e-01],\n",
       "       [9.8686856e-01, 1.1792519e-02, 1.3389366e-03],\n",
       "       [3.0137282e-02, 1.5949494e-01, 8.1036776e-01],\n",
       "       [2.4964905e-01, 3.1046090e-01, 4.3989003e-01],\n",
       "       [8.7679528e-02, 5.1097202e-01, 4.0134847e-01],\n",
       "       [5.7577077e-02, 3.1029579e-01, 6.3212717e-01],\n",
       "       [9.9459463e-01, 5.4041711e-03, 1.2327425e-06],\n",
       "       [1.6130295e-01, 4.3257701e-01, 4.0612006e-01],\n",
       "       [4.4193543e-02, 4.0332065e-03, 9.5177329e-01],\n",
       "       [1.0688779e-01, 2.3749147e-01, 6.5562075e-01],\n",
       "       [9.9970716e-01, 2.9163179e-04, 1.1858406e-06],\n",
       "       [9.8339766e-01, 1.6601879e-02, 4.1590576e-07],\n",
       "       [1.0893076e-01, 5.7404572e-01, 3.1702355e-01],\n",
       "       [1.5337671e-01, 4.6263152e-01, 3.8399175e-01],\n",
       "       [7.7472269e-03, 9.9224055e-01, 1.2233077e-05],\n",
       "       [9.9969482e-01, 3.0521682e-04, 2.2418046e-08],\n",
       "       [5.0371099e-02, 1.0524641e-01, 8.4438258e-01],\n",
       "       [9.9994731e-01, 5.1783849e-05, 9.5612199e-07],\n",
       "       [1.0357729e-01, 1.0962876e-01, 7.8679395e-01],\n",
       "       [9.7904313e-01, 2.0955494e-02, 1.3489871e-06],\n",
       "       [1.4593336e-01, 5.2225453e-01, 3.3181211e-01],\n",
       "       [8.1589043e-02, 4.2471558e-01, 4.9369532e-01],\n",
       "       [9.9990225e-01, 9.7671807e-05, 1.2498603e-07],\n",
       "       [1.0925745e-01, 5.5779356e-01, 3.3294898e-01],\n",
       "       [2.6756398e-02, 7.0342147e-01, 2.6982209e-01],\n",
       "       [9.9473685e-01, 5.2607721e-03, 2.4259202e-06],\n",
       "       [4.5243811e-02, 7.7571169e-02, 8.7718499e-01],\n",
       "       [9.3249626e-02, 4.7594604e-01, 4.3080431e-01],\n",
       "       [2.0586577e-01, 7.8992337e-01, 4.2108176e-03],\n",
       "       [2.2712853e-02, 3.6633474e-01, 6.1095238e-01]], dtype=float32)"
      ]
     },
     "execution_count": 17,
     "metadata": {},
     "output_type": "execute_result"
    }
   ],
   "source": [
    "custom_model.predict(test_data)"
   ]
  },
  {
   "cell_type": "code",
   "execution_count": 18,
   "metadata": {},
   "outputs": [],
   "source": [
    "custom_model.save('./model/model.h5')"
   ]
  },
  {
   "cell_type": "code",
   "execution_count": 19,
   "metadata": {},
   "outputs": [],
   "source": [
    "import tensorflow as tf\n",
    "model = tf.keras.models.load_model('./model/model.h5')"
   ]
  },
  {
   "cell_type": "code",
   "execution_count": 20,
   "metadata": {},
   "outputs": [
    {
     "name": "stdout",
     "output_type": "stream",
     "text": [
      "1/1 [==============================] - 1s 1s/step\n"
     ]
    },
    {
     "data": {
      "text/plain": [
       "array([[0.10695641, 0.09431466, 0.7987289 ]], dtype=float32)"
      ]
     },
     "execution_count": 20,
     "metadata": {},
     "output_type": "execute_result"
    }
   ],
   "source": [
    "from PIL import Image\n",
    "import numpy as np\n",
    "\n",
    "img = Image.open('./data/test/TIN/20230413_162149.jpg')\n",
    "img = img.resize((224, 224))\n",
    "img = np.array(img)\n",
    "img = img / 255.0\n",
    "img = np.expand_dims(img, axis=0)\n",
    "\n",
    "model.predict(img)"
   ]
  }
 ],
 "metadata": {
  "kernelspec": {
   "display_name": "Python 3",
   "language": "python",
   "name": "python3"
  },
  "language_info": {
   "codemirror_mode": {
    "name": "ipython",
    "version": 3
   },
   "file_extension": ".py",
   "mimetype": "text/x-python",
   "name": "python",
   "nbconvert_exporter": "python",
   "pygments_lexer": "ipython3",
   "version": "3.11.0"
  },
  "orig_nbformat": 4
 },
 "nbformat": 4,
 "nbformat_minor": 2
}
